{
 "cells": [
  {
   "cell_type": "code",
   "execution_count": 1,
   "metadata": {},
   "outputs": [],
   "source": [
    "# Appending list\n",
    "cars = [\"volkswagen\",\"audi\",\"porsche\"]"
   ]
  },
  {
   "cell_type": "code",
   "execution_count": 2,
   "metadata": {},
   "outputs": [
    {
     "name": "stdout",
     "output_type": "stream",
     "text": [
      "Append: ['volkswagen', 'audi', 'porsche', 'ford']\n"
     ]
    }
   ],
   "source": [
    "#Append\n",
    "cars.append(\"ford\")\n",
    "print(f\"Append: {cars}\")"
   ]
  },
  {
   "cell_type": "code",
   "execution_count": 3,
   "metadata": {},
   "outputs": [
    {
     "name": "stdout",
     "output_type": "stream",
     "text": [
      "Insert: ['benz', 'volkswagen', 'audi', 'porsche', 'ford']\n"
     ]
    }
   ],
   "source": [
    "# Insert\n",
    "cars.insert(0,\"benz\")\n",
    "print(f\"Insert: {cars}\")"
   ]
  },
  {
   "cell_type": "code",
   "execution_count": 4,
   "metadata": {},
   "outputs": [
    {
     "name": "stdout",
     "output_type": "stream",
     "text": [
      "Remove: ['benz', 'volkswagen', 'audi', 'ford']\n"
     ]
    }
   ],
   "source": [
    "# Remove\n",
    "cars.remove(\"porsche\")\n",
    "print(f\"Remove: {cars}\")"
   ]
  },
  {
   "cell_type": "code",
   "execution_count": 6,
   "metadata": {},
   "outputs": [
    {
     "name": "stdout",
     "output_type": "stream",
     "text": [
      "Shallow Copy: ['lemon', 'lemon', 'orange', 'banana'], Original: ['kiwi', 'lemon', 'orange', 'banana']\n",
      "Deep Copy: ['kiwi', 'lemon', 'orange', 'banana'], Original: ['kiwi', 'lemon', 'orange', 'banana']\n"
     ]
    }
   ],
   "source": [
    "fruits = [\"kiwi\",\"lemon\",\"orange\",\"banana\"]\n",
    "# Copy\n",
    "# Shallow Copy\n",
    "fruits_shallow_copy = fruits.copy()\n",
    "fruits_shallow_copy[0] = \"lemon\"  \n",
    "print(f\"Shallow Copy: {fruits_shallow_copy}, Original: {fruits}\")\n",
    "\n",
    "# Deep Copy\n",
    "import copy\n",
    "fruits_deep_copy = copy.deepcopy(fruits)\n",
    "fruits_deep_copy[0] = \"kiwi\"  \n",
    "print(f\"Deep Copy: {fruits_deep_copy}, Original: {fruits}\")"
   ]
  },
  {
   "cell_type": "code",
   "execution_count": 7,
   "metadata": {},
   "outputs": [
    {
     "name": "stdout",
     "output_type": "stream",
     "text": [
      "Count of 'apple': 1\n"
     ]
    }
   ],
   "source": [
    "# Count\n",
    "fruits.append(\"apple\")\n",
    "apple_count = fruits.count(\"apple\")\n",
    "print(f\"Count of 'apple': {apple_count}\")"
   ]
  },
  {
   "cell_type": "code",
   "execution_count": 8,
   "metadata": {},
   "outputs": [
    {
     "name": "stdout",
     "output_type": "stream",
     "text": [
      "Extend: ['kiwi', 'lemon', 'orange', 'banana', 'apple', 'pear', 'pineapple']\n"
     ]
    }
   ],
   "source": [
    "# Extend\n",
    "more_fruits = [\"pear\", \"pineapple\"]\n",
    "fruits.extend(more_fruits)\n",
    "print(f\"Extend: {fruits}\")"
   ]
  },
  {
   "cell_type": "code",
   "execution_count": 9,
   "metadata": {},
   "outputs": [
    {
     "name": "stdout",
     "output_type": "stream",
     "text": [
      "Index of 'apple': 4\n"
     ]
    }
   ],
   "source": [
    "# Index\n",
    "apple_index = fruits.index(\"apple\")\n",
    "print(f\"Index of 'apple': {apple_index}\")"
   ]
  },
  {
   "cell_type": "code",
   "execution_count": 10,
   "metadata": {},
   "outputs": [
    {
     "name": "stdout",
     "output_type": "stream",
     "text": [
      "Sort: ['apple', 'banana', 'kiwi', 'lemon', 'orange', 'pear', 'pineapple']\n"
     ]
    }
   ],
   "source": [
    "# Sort\n",
    "fruits.sort() \n",
    "print(f\"Sort: {fruits}\")"
   ]
  },
  {
   "cell_type": "code",
   "execution_count": 11,
   "metadata": {},
   "outputs": [
    {
     "name": "stdout",
     "output_type": "stream",
     "text": [
      "Reverse: ['pineapple', 'pear', 'orange', 'lemon', 'kiwi', 'banana', 'apple']\n"
     ]
    }
   ],
   "source": [
    "# Reverse\n",
    "fruits.reverse()\n",
    "print(f\"Reverse: {fruits}\")"
   ]
  },
  {
   "cell_type": "code",
   "execution_count": 12,
   "metadata": {},
   "outputs": [
    {
     "name": "stdout",
     "output_type": "stream",
     "text": [
      "Clear: []\n"
     ]
    }
   ],
   "source": [
    "# Clear\n",
    "fruits.clear()\n",
    "print(f\"Clear: {fruits}\")"
   ]
  },
  {
   "cell_type": "code",
   "execution_count": 13,
   "metadata": {},
   "outputs": [
    {
     "name": "stdout",
     "output_type": "stream",
     "text": [
      "Pop: pineapple, Remaining: ['pear']\n"
     ]
    }
   ],
   "source": [
    "#Pop\n",
    "removed_fruit = more_fruits.pop()  \n",
    "print(f\"Pop: {removed_fruit}, Remaining: {more_fruits}\")"
   ]
  },
  {
   "cell_type": "code",
   "execution_count": 14,
   "metadata": {},
   "outputs": [
    {
     "name": "stdout",
     "output_type": "stream",
     "text": [
      "List of squares: [0, 1, 4, 9, 16, 25, 36, 49, 64, 81]\n",
      "Even numbers: [0, 2, 4, 6, 8, 10, 12, 14, 16, 18]\n",
      "Uppercased words: ['HELLO', 'WORLD', 'PYTHON', 'CODE']\n",
      "Number-Square pairs: [(0, 0), (1, 1), (2, 4), (3, 9), (4, 16), (5, 25), (6, 36), (7, 49), (8, 64), (9, 81)]\n",
      "Flattened list: [1, 2, 3, 4, 5, 6, 7, 8, 9]\n"
     ]
    }
   ],
   "source": [
    "# List Comprehension\n",
    "#  list of squares for numbers from 0 to 9\n",
    "squares = [x ** 2 for x in range(10)]\n",
    "print(\"List of squares:\", squares)\n",
    "\n",
    "# list of even numbers from 0 to 19\n",
    "even_numbers = [x for x in range(20) if x % 2 == 0]\n",
    "print(\"Even numbers:\", even_numbers)\n",
    "\n",
    "#  list of words to uppercase\n",
    "words = [\"hello\", \"world\", \"python\", \"code\"]\n",
    "uppercased_words = [word.upper() for word in words]\n",
    "print(\"Uppercased words:\", uppercased_words)\n",
    "\n",
    "# list of tuples with numbers and their squares\n",
    "number_square_pairs = [(x, x ** 2) for x in range(10)]\n",
    "print(\"Number-Square pairs:\", number_square_pairs)\n",
    "\n",
    "#  list of lists into a single list\n",
    "nested_list = [[1, 2, 3], [4, 5, 6], [7, 8, 9]]\n",
    "flattened_list = [item for sublist in nested_list for item in sublist]\n",
    "print(\"Flattened list:\", flattened_list)\n"
   ]
  },
  {
   "cell_type": "code",
   "execution_count": 18,
   "metadata": {},
   "outputs": [
    {
     "name": "stdout",
     "output_type": "stream",
     "text": [
      "Positive Slicing: ['kiwi', 'mango', 'cranberry']\n",
      "Positive Slicing with Step: ['kiwi', 'cranberry']\n",
      "Negative Slicing: ['kiwi', 'mango', 'cranberry']\n",
      "Negative Slicing with Reverse: ['mango', 'kiwi', 'blueberry']\n",
      "Retrieve a Portion: ['mango', 'cranberry']\n",
      "Update a Slice: ['blueberry', 'blueberry', 'cranberry', 'cranberry']\n",
      "Delete a Slice: ['blueberry', 'blueberry']\n",
      "Insert into a Slice: ['blueberry', 'kiwi', 'mango', 'blueberry']\n"
     ]
    }
   ],
   "source": [
    "#Slicng \n",
    "\n",
    "# Slice from index 1 to 4 \n",
    "subset1 = fruits[1:4]  \n",
    "print(\"Positive Slicing:\", subset1)\n",
    "\n",
    "# Slice with a step\n",
    "subset2 = fruits[1:6:2]  \n",
    "print(\"Positive Slicing with Step:\", subset2)\n",
    "\n",
    "# Slice the last three elements\n",
    "subset3 = fruits[-3:] \n",
    "print(\"Negative Slicing:\", subset3)\n",
    "\n",
    "# Slice from the second to last to the fourth to last \n",
    "subset4 = fruits[-2:-5:-1]  \n",
    "print(\"Negative Slicing with Reverse:\", subset4)\n",
    "\n",
    "# Extract a portion of the list\n",
    "middle_subset = fruits[2:5]  \n",
    "print(\"Retrieve a Portion:\", middle_subset)\n",
    "\n",
    "# Update elements within a slice\n",
    "fruits[1:3] = [\"blueberry\", \"cranberry\"]  \n",
    "print(\"Update a Slice:\", fruits)  \n",
    "\n",
    "# Remove elements within a slice\n",
    "del fruits[2:4]  \n",
    "print(\"Delete a Slice:\", fruits)  \n",
    "\n",
    "# Add elements into a specific position\n",
    "fruits[1:1] = [\"kiwi\", \"mango\"]  \n",
    "print(\"Insert into a Slice:\", fruits)"
   ]
  },
  {
   "cell_type": "code",
   "execution_count": 19,
   "metadata": {},
   "outputs": [
    {
     "name": "stdout",
     "output_type": "stream",
     "text": [
      "Is 'banana' in the list? True\n",
      "Index of 'banana': 1\n",
      "Found element: date\n"
     ]
    }
   ],
   "source": [
    "#Seraching \n",
    "# Create a list of fruits\n",
    "fruits = [\"apple\", \"banana\", \"cherry\", \"date\", \"elderberry\"]\n",
    "\n",
    "# Checking if an element exists in the list\n",
    "has_banana = \"banana\" in fruits  \n",
    "print(\"Is 'banana' in the list?\", has_banana)\n",
    "\n",
    "# Finding the index of an element\n",
    "banana_index = fruits.index(\"banana\")  \n",
    "print(\"Index of 'banana':\", banana_index)\n",
    "\n",
    "# Iterating through the list to find a specific element\n",
    "element_to_find = \"date\"\n",
    "found_element = None\n",
    "for fruit in fruits:\n",
    "    if fruit == element_to_find:\n",
    "        found_element = fruit\n",
    "        break\n",
    "print(\"Found element:\", found_element)  "
   ]
  }
 ],
 "metadata": {
  "kernelspec": {
   "display_name": "Python 3",
   "language": "python",
   "name": "python3"
  },
  "language_info": {
   "codemirror_mode": {
    "name": "ipython",
    "version": 3
   },
   "file_extension": ".py",
   "mimetype": "text/x-python",
   "name": "python",
   "nbconvert_exporter": "python",
   "pygments_lexer": "ipython3",
   "version": "3.11.5"
  }
 },
 "nbformat": 4,
 "nbformat_minor": 2
}

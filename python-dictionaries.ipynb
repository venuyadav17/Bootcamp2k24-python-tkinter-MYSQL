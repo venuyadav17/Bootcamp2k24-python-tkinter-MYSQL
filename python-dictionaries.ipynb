{
 "cells": [
  {
   "cell_type": "code",
   "execution_count": 1,
   "metadata": {},
   "outputs": [],
   "source": [
    "# Using the dict() constructor\n",
    "empty_dict = dict()\n",
    "\n",
    "# Using curly braces\n",
    "person = {'name': 'vijay', 'age': 17, 'city': 'kamaredyy'}"
   ]
  },
  {
   "cell_type": "code",
   "execution_count": 2,
   "metadata": {},
   "outputs": [
    {
     "name": "stdout",
     "output_type": "stream",
     "text": [
      "vijay\n",
      "17\n"
     ]
    }
   ],
   "source": [
    "# Accessing values\n",
    "print(person['name'])  \n",
    "print(person.get('age'))    \n",
    "\n",
    "# Modifying values\n",
    "person['age'] = 18"
   ]
  },
  {
   "cell_type": "code",
   "execution_count": 3,
   "metadata": {},
   "outputs": [
    {
     "name": "stdout",
     "output_type": "stream",
     "text": [
      "Vijay Yadav\n",
      "lucknow\n"
     ]
    }
   ],
   "source": [
    "# Representing a person object\n",
    "person = {\n",
    "    'name': 'Vijay Yadav',\n",
    "    'age': 17,\n",
    "    'address': {\n",
    "        'street': '11 alamgarh',\n",
    "        'city': 'lucknow',\n",
    "        'state': 'UP'\n",
    "    }\n",
    "}\n",
    "\n",
    "# Accessing nested data\n",
    "print(person['name'])  \n",
    "print(person['address']['city']) "
   ]
  },
  {
   "cell_type": "code",
   "execution_count": 4,
   "metadata": {},
   "outputs": [],
   "source": [
    "# Configuration settings for an application\n",
    "config = {\n",
    "    'debug': True,\n",
    "    'log_file': 'app.log',\n",
    "    'database': {\n",
    "        'host': 'localhost',\n",
    "        'user': 'root',\n",
    "        'password': 'secret'\n",
    "    }\n",
    "}\n",
    "\n",
    "# Accessing configuration values\n",
    "debug_mode = config['debug']\n",
    "log_file = config['log_file']\n",
    "db_host = config['database']['host']\n"
   ]
  },
  {
   "cell_type": "code",
   "execution_count": 5,
   "metadata": {},
   "outputs": [
    {
     "name": "stdout",
     "output_type": "stream",
     "text": [
      "name\n",
      "age\n",
      "address\n",
      "Vijay Yadav\n",
      "17\n",
      "{'street': '11 alamgarh', 'city': 'lucknow', 'state': 'UP'}\n",
      "name: Vijay Yadav\n",
      "age: 17\n",
      "address: {'street': '11 alamgarh', 'city': 'lucknow', 'state': 'UP'}\n"
     ]
    }
   ],
   "source": [
    "\n",
    "#Looping Through a Dictionary:\n",
    "\n",
    "# Looping through keys\n",
    "for key in person:\n",
    "    print(key) \n",
    "# Looping through values\n",
    "for value in person.values():\n",
    "    print(value)  \n",
    "# Looping through key-value pairs\n",
    "for key, value in person.items():\n",
    "    print(f\"{key}: {value}\") "
   ]
  },
  {
   "cell_type": "code",
   "execution_count": 6,
   "metadata": {},
   "outputs": [
    {
     "name": "stdout",
     "output_type": "stream",
     "text": [
      "['name', 'age', 'address']\n",
      "['Vijay Yadav', 17, {'street': '11 alamgarh', 'city': 'lucknow', 'state': 'UP'}]\n",
      "{}\n"
     ]
    }
   ],
   "source": [
    "\n",
    "#Dictionary Methods:\n",
    "\n",
    "# Dictionary methods\n",
    "keys_list = list(person.keys())\n",
    "values_list = list(person.values())\n",
    "print(keys_list)  \n",
    "print(values_list)  \n",
    "person.clear()\n",
    "print(person)  \n",
    "     "
   ]
  },
  {
   "cell_type": "code",
   "execution_count": 7,
   "metadata": {},
   "outputs": [
    {
     "name": "stdout",
     "output_type": "stream",
     "text": [
      "{1: 1, 2: 4, 3: 9, 4: 16, 5: 25}\n"
     ]
    }
   ],
   "source": [
    "# List of numbers\n",
    "numbers = [1, 2, 3, 4, 5]\n",
    "\n",
    "# Dictionary with squares of numbers\n",
    "squares = {num: num**2 for num in numbers}\n",
    "print(squares)"
   ]
  },
  {
   "cell_type": "code",
   "execution_count": 8,
   "metadata": {},
   "outputs": [
    {
     "name": "stdout",
     "output_type": "stream",
     "text": [
      "{2: 8, 4: 64, 6: 216, 8: 512, 10: 1000}\n"
     ]
    }
   ],
   "source": [
    "# List of numbers\n",
    "numbers = [1, 2, 3, 4, 5, 6, 7, 8, 9, 10]\n",
    "\n",
    "# Dictionary with even numbers as keys and their cubes as values\n",
    "even_cubes = {num: num**3 for num in numbers if num % 2 == 0}\n",
    "print(even_cubes)"
   ]
  },
  {
   "cell_type": "code",
   "execution_count": 9,
   "metadata": {},
   "outputs": [
    {
     "name": "stdout",
     "output_type": "stream",
     "text": [
      "{4, 5}\n",
      "{1: 2, 2: 2, 3: 1, 4: 1, 5: 2}\n"
     ]
    }
   ],
   "source": [
    "# Finding common elements between two lists\n",
    "list1 = [1, 2, 3, 4, 5]\n",
    "list2 = [4, 5, 6, 7, 8]\n",
    "\n",
    "set1 = set(list1)\n",
    "set2 = set(list2)\n",
    "\n",
    "common_elements = set1.intersection(set2)\n",
    "print(common_elements)  \n",
    "\n",
    "# Counting unique elements\n",
    "elements = [1, 2, 3, 1, 2, 4, 5, 5]\n",
    "unique_counts = {element: elements.count(element) for element in set(elements)}\n",
    "print(unique_counts) "
   ]
  }
 ],
 "metadata": {
  "kernelspec": {
   "display_name": "Python 3",
   "language": "python",
   "name": "python3"
  },
  "language_info": {
   "codemirror_mode": {
    "name": "ipython",
    "version": 3
   },
   "file_extension": ".py",
   "mimetype": "text/x-python",
   "name": "python",
   "nbconvert_exporter": "python",
   "pygments_lexer": "ipython3",
   "version": "3.11.5"
  }
 },
 "nbformat": 4,
 "nbformat_minor": 2
}

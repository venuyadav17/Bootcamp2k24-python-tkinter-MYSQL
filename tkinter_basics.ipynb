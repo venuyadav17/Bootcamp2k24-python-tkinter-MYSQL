{
 "cells": [
  {
   "cell_type": "code",
   "execution_count": 3,
   "metadata": {},
   "outputs": [],
   "source": [
    "\n",
    "# Import the necessary module from the tkinter package\n",
    "import tkinter as tk\n",
    "\n",
    "# Create the main window (root window)\n",
    "root = tk.Tk()\n",
    "\n",
    "# Set the title of the window\n",
    "root.title(\"Basic Tkinter Window\")\n",
    "\n",
    "# Set the size of the window\n",
    "root.geometry(\"300x200\")\n",
    "\n",
    "# Create a label widget with some text\n",
    "label = tk.Label(root, text=\"Hello World!\")\n",
    "# Pack the label widget onto the window\n",
    "label.pack(pady=20)\n",
    "\n",
    "# Define a function that will be called when the button is clicked\n",
    "def on_button_click():\n",
    "    label.config(text=\"Button Clicked!\")\n",
    "\n",
    "# Create a button widget with a label and assign the on_button_click function to be called on a click\n",
    "button = tk.Button(root, text=\"Click Me\", command=on_button_click)\n",
    "# Pack the button widget onto the window\n",
    "button.pack(pady=20)\n",
    "\n",
    "# Start the Tkinter main loop to keep the window open\n",
    "root.mainloop()\n"
   ]
  }
 ],
 "metadata": {
  "kernelspec": {
   "display_name": "Python 3",
   "language": "python",
   "name": "python3"
  },
  "language_info": {
   "codemirror_mode": {
    "name": "ipython",
    "version": 3
   },
   "file_extension": ".py",
   "mimetype": "text/x-python",
   "name": "python",
   "nbconvert_exporter": "python",
   "pygments_lexer": "ipython3",
   "version": "3.11.5"
  }
 },
 "nbformat": 4,
 "nbformat_minor": 2
}

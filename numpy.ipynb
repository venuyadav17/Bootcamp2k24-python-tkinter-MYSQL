{
 "cells": [
  {
   "cell_type": "code",
   "execution_count": null,
   "metadata": {},
   "outputs": [],
   "source": [
    "# Installing NumPy using bash\n",
    "\n",
    "pip install numpy\n"
   ]
  },
  {
   "cell_type": "code",
   "execution_count": null,
   "metadata": {},
   "outputs": [],
   "source": [
    "#  Importing NumPy\n",
    "\n",
    "import numpy as np\n"
   ]
  },
  {
   "cell_type": "code",
   "execution_count": null,
   "metadata": {},
   "outputs": [],
   "source": [
    "# Creating Arrays\n",
    "\n",
    "# Creating a 1D array\n",
    "a = np.array([1, 2, 3, 4, 5])\n",
    "print(a)\n",
    "\n",
    "# Creating a 2D array\n",
    "b = np.array([[1, 2, 3], [4, 5, 6]])\n",
    "print(b)\n",
    "\n",
    "# Creating an array filled with zeros\n",
    "c = np.zeros((3, 4))\n",
    "print(c)\n",
    "\n",
    "# Creating an array filled with ones\n",
    "d = np.ones((2, 3))\n",
    "print(d)\n",
    "\n",
    "# Creating an array with a range of values\n",
    "e = np.arange(10)\n",
    "print(e)\n",
    "\n",
    "# Creating an array with evenly spaced values\n",
    "f = np.linspace(0, 1, 5)\n",
    "print(f)\n"
   ]
  },
  {
   "cell_type": "code",
   "execution_count": null,
   "metadata": {},
   "outputs": [],
   "source": [
    "# Array Operations\n",
    "\n",
    "# Basic arithmetic operations\n",
    "x = np.array([1, 2, 3])\n",
    "y = np.array([4, 5, 6])\n",
    "\n",
    "print(x + y)  # Element-wise addition\n",
    "print(x - y)  # Element-wise subtraction\n",
    "print(x * y)  # Element-wise multiplication\n",
    "print(x / y)  # Element-wise division\n",
    "\n",
    "# Mathematical functions\n",
    "print(np.sin(x))  # Sine function\n",
    "print(np.cos(x))  # Cosine function\n",
    "print(np.exp(x))  # Exponential function\n",
    "print(np.sqrt(x)) # Square root\n"
   ]
  },
  {
   "cell_type": "code",
   "execution_count": null,
   "metadata": {},
   "outputs": [],
   "source": [
    "# Indexing and Slicing\n",
    "\n",
    "# 1D array indexing and slicing\n",
    "g = np.array([10, 20, 30, 40, 50])\n",
    "print(g[0])     # First element\n",
    "print(g[1:4])   # Slicing\n",
    "\n",
    "# 2D array indexing and slicing\n",
    "h = np.array([[1, 2, 3], [4, 5, 6], [7, 8, 9]])\n",
    "print(h[0, 0])  # Element at first row, first column\n",
    "print(h[1:, 1:])# Slicing\n"
   ]
  },
  {
   "cell_type": "code",
   "execution_count": null,
   "metadata": {},
   "outputs": [],
   "source": [
    "# Reshaping Arrays\n",
    "\n",
    "# Reshape a 1D array to a 2D array\n",
    "i = np.array([1, 2, 3, 4, 5, 6])\n",
    "j = i.reshape((2, 3))\n",
    "print(j)\n",
    "\n",
    "# Flatten a 2D array to a 1D array\n",
    "k = j.flatten()\n",
    "print(k)\n"
   ]
  },
  {
   "cell_type": "code",
   "execution_count": null,
   "metadata": {},
   "outputs": [],
   "source": [
    "# Aggregation Functions\n",
    "\n",
    "# Sum of all elements\n",
    "print(np.sum(a))\n",
    "\n",
    "# Mean of all elements\n",
    "print(np.mean(a))\n",
    "\n",
    "# Standard deviation\n",
    "print(np.std(a))\n",
    "\n",
    "# Maximum and minimum values\n",
    "print(np.max(a))\n",
    "print(np.min(a))\n"
   ]
  }
 ],
 "metadata": {
  "language_info": {
   "name": "python"
  }
 },
 "nbformat": 4,
 "nbformat_minor": 2
}

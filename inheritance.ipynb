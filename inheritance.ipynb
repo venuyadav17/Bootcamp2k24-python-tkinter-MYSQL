{
 "cells": [
  {
   "cell_type": "code",
   "execution_count": 1,
   "metadata": {},
   "outputs": [
    {
     "name": "stdout",
     "output_type": "stream",
     "text": [
      "Generic Animal says something.\n",
      "Buddy says Woof!\n",
      "Whiskers says Meow!\n"
     ]
    }
   ],
   "source": [
    "# Parent class\n",
    "class Animal:\n",
    "    def __init__(self, name):\n",
    "        self.name = name\n",
    "\n",
    "    def speak(self):\n",
    "        return f\"{self.name} says something.\"\n",
    "\n",
    "# Child class inheriting from Animal\n",
    "class Dog(Animal):\n",
    "    def speak(self):\n",
    "        return f\"{self.name} says Woof!\"\n",
    "\n",
    "# Child class inheriting from Animal\n",
    "class Cat(Animal):\n",
    "    def speak(self):\n",
    "        return f\"{self.name} says Meow!\"\n",
    "\n",
    "animal = Animal(\"Generic Animal\")\n",
    "dog = Dog(\"Buddy\")\n",
    "cat = Cat(\"Whiskers\")\n",
    "\n",
    "print(animal.speak())  \n",
    "print(dog.speak())     \n",
    "print(cat.speak())     \n"
   ]
  },
  {
   "cell_type": "code",
   "execution_count": 2,
   "metadata": {},
   "outputs": [
    {
     "name": "stdout",
     "output_type": "stream",
     "text": [
      "[<class '__main__.D'>, <class '__main__.B'>, <class '__main__.C'>, <class '__main__.A'>, <class 'object'>]\n"
     ]
    }
   ],
   "source": [
    "# MRO (Method Resolution Order): It is the order in which Python searches for methods in a class hierarchy when invoking a method on an instance.\n",
    "\n",
    "class A:\n",
    "    def method(self):\n",
    "        print(\"A method\")\n",
    "\n",
    "class B(A):\n",
    "    pass\n",
    "\n",
    "class C(A):\n",
    "    def method(self):\n",
    "        print(\"C method\")\n",
    "\n",
    "class D(B, C):\n",
    "    pass\n",
    "\n",
    "print(D.mro()) "
   ]
  },
  {
   "cell_type": "code",
   "execution_count": 3,
   "metadata": {},
   "outputs": [
    {
     "name": "stdout",
     "output_type": "stream",
     "text": [
      "Generic Animal says something.\n",
      "Buddy says something.\n",
      "Buddy barks loudly.\n",
      "Method from class A\n",
      "Method from class B\n",
      "Method from class C\n",
      "Method from Grandparent class\n",
      "Method from Parent class\n",
      "Method from Child class\n",
      "Animal moves\n",
      "Dog barks\n",
      "Animal moves\n",
      "Cat meows\n"
     ]
    }
   ],
   "source": [
    "#Single Inheritance:\n",
    "\n",
    "class Animal:\n",
    "    def __init__(self, name):\n",
    "        self.name = name\n",
    "\n",
    "    def speak(self):\n",
    "        return f\"{self.name} says something.\"\n",
    "\n",
    "class Dog(Animal):\n",
    "    def bark(self):\n",
    "        return f\"{self.name} barks loudly.\"\n",
    "\n",
    "animal = Animal(\"Generic Animal\")\n",
    "print(animal.speak())  \n",
    "dog = Dog(\"Buddy\")\n",
    "print(dog.speak())    \n",
    "print(dog.bark())     \n",
    "\n",
    "\n",
    "#Multiple Inheritance:\n",
    "\n",
    "class A:\n",
    "    def method_a(self):\n",
    "        return \"Method from class A\"\n",
    "\n",
    "class B:\n",
    "    def method_b(self):\n",
    "        return \"Method from class B\"\n",
    "\n",
    "class C(A, B):\n",
    "    def method_c(self):\n",
    "        return \"Method from class C\"\n",
    "\n",
    "obj = C()\n",
    "print(obj.method_a())  \n",
    "print(obj.method_b())  \n",
    "print(obj.method_c())  \n",
    "\n",
    "\n",
    "#Multilevel Inheritance:\n",
    "\n",
    "class Grandparent:\n",
    "    def grand_method(self):\n",
    "        return \"Method from Grandparent class\"\n",
    "\n",
    "class Parent(Grandparent):\n",
    "    def parent_method(self):\n",
    "        return \"Method from Parent class\"\n",
    "\n",
    "class Child(Parent):\n",
    "    def child_method(self):\n",
    "        return \"Method from Child class\"\n",
    "\n",
    "child = Child()\n",
    "print(child.grand_method())  \n",
    "print(child.parent_method()) \n",
    "print(child.child_method())  \n",
    "\n",
    "\n",
    "#Hierarchical Inheritance:\n",
    "\n",
    "class Animal:\n",
    "    def move(self):\n",
    "        return \"Animal moves\"\n",
    "\n",
    "class Dog(Animal):\n",
    "    def bark(self):\n",
    "        return \"Dog barks\"\n",
    "\n",
    "class Cat(Animal):\n",
    "    def meow(self):\n",
    "        return \"Cat meows\"\n",
    "\n",
    "dog = Dog()\n",
    "print(dog.move()) \n",
    "print(dog.bark()) \n",
    "cat = Cat()\n",
    "print(cat.move()) \n",
    "print(cat.meow())  \n",
    "\n",
    "\n",
    "     \n"
   ]
  },
  {
   "cell_type": "code",
   "execution_count": 4,
   "metadata": {},
   "outputs": [
    {
     "name": "stdout",
     "output_type": "stream",
     "text": [
      "The ID is: 111\n",
      "The Name is: Piyush Pandey\n",
      "The Address is: Hyderabad\n",
      "The Emails is: PP@gmail.com\n"
     ]
    }
   ],
   "source": [
    "#Base class\n",
    "class Emp():\n",
    "    def __init__(self, id, name, Add):\n",
    "        self.id = id\n",
    "        self.name = name\n",
    "        self.Add = Add\n",
    " \n",
    "# Class freelancer inherits EMP\n",
    "class Freelance(Emp):\n",
    "    def __init__(self, id, name, Add, Emails):\n",
    "        super().__init__(id, name, Add)\n",
    "        self.Emails = Emails\n",
    " \n",
    "Emp_1 = Freelance(111, \"Piyush Pandey\", \"Hyderabad\" , \"PP@gmail.com\")\n",
    "print('The ID is:', Emp_1.id)\n",
    "print('The Name is:', Emp_1.name)\n",
    "print('The Address is:', Emp_1.Add)\n",
    "print('The Emails is:', Emp_1.Emails)"
   ]
  },
  {
   "cell_type": "code",
   "execution_count": 6,
   "metadata": {},
   "outputs": [
    {
     "name": "stdout",
     "output_type": "stream",
     "text": [
      "Buddy is a Labrador I am a dog\n"
     ]
    }
   ],
   "source": [
    "# Parent class\n",
    "class Animal:\n",
    "    def __init__(self, species):\n",
    "        self.species = species\n",
    "\n",
    "    def display_info(self):\n",
    "        return f\"I am a {self.species}\"\n",
    "class Dog(Animal):\n",
    "    def __init__(self, name, breed):\n",
    "        super().__init__(\"dog\")  \n",
    "        self.name = name\n",
    "        self.breed = breed\n",
    "\n",
    "    def display_info(self):\n",
    "        return f\"{self.name} is a {self.breed} {super().display_info()}\"\n",
    "\n",
    "dog = Dog(\"Buddy\", \"Labrador\")\n",
    "print(dog.display_info())\n",
    "\n",
    "     "
   ]
  }
 ],
 "metadata": {
  "kernelspec": {
   "display_name": "Python 3",
   "language": "python",
   "name": "python3"
  },
  "language_info": {
   "codemirror_mode": {
    "name": "ipython",
    "version": 3
   },
   "file_extension": ".py",
   "mimetype": "text/x-python",
   "name": "python",
   "nbconvert_exporter": "python",
   "pygments_lexer": "ipython3",
   "version": "3.11.5"
  }
 },
 "nbformat": 4,
 "nbformat_minor": 2
}

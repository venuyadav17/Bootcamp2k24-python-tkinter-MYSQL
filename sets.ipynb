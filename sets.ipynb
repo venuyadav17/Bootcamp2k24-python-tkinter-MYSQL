{
 "cells": [
  {
   "cell_type": "code",
   "execution_count": 1,
   "metadata": {},
   "outputs": [
    {
     "name": "stdout",
     "output_type": "stream",
     "text": [
      "set()\n",
      "{1, 2, 3, 4}\n"
     ]
    }
   ],
   "source": [
    "# Creating an empty set\n",
    "empty_set = set()\n",
    "print(empty_set) \n",
    "\n",
    "# Creating a set with elements\n",
    "my_set = {1, 2, 3, 4}\n",
    "print(my_set)  \n"
   ]
  },
  {
   "cell_type": "code",
   "execution_count": 3,
   "metadata": {},
   "outputs": [
    {
     "name": "stdout",
     "output_type": "stream",
     "text": [
      "{1, 2, 3, 4}\n",
      "{1, 2, 3, 4, 5, 6, 7}\n"
     ]
    }
   ],
   "source": [
    "#adding elements\n",
    "\n",
    "my_set = {1, 2, 3}\n",
    "\n",
    "# Adding a single element\n",
    "my_set.add(4)\n",
    "print(my_set) \n",
    "\n",
    "# Adding multiple elements\n",
    "my_set.update([5, 6, 7])\n",
    "print(my_set)"
   ]
  },
  {
   "cell_type": "code",
   "execution_count": 2,
   "metadata": {},
   "outputs": [
    {
     "name": "stdout",
     "output_type": "stream",
     "text": [
      "Union: {1, 2, 3, 4, 5}\n",
      "Intersection: {3}\n",
      "Difference: {1, 2}\n",
      "Symmetric Difference: {1, 2, 4, 5}\n"
     ]
    }
   ],
   "source": [
    "#set operations\n",
    "\n",
    "#Union (|):\n",
    "set1 = {1, 2, 3}\n",
    "set2 = {3, 4, 5}\n",
    "union_set = set1 | set2  # Output: {1, 2, 3, 4, 5}\n",
    "print(\"Union:\",union_set)\n",
    "\n",
    "#Intersection (&):\n",
    "set1 = {1, 2, 3}\n",
    "set2 = {3, 4, 5}\n",
    "intersection_set = set1 & set2  # Output: {3}\n",
    "print(\"Intersection:\",intersection_set)\n",
    "\n",
    "# Difference (-):\n",
    "set1 = {1, 2, 3}\n",
    "set2 = {3, 4, 5}\n",
    "difference_set = set1 - set2  # Output: {1, 2}\n",
    "print(\"Difference:\",difference_set)\n",
    "\n",
    "# Symmetric Difference (^):\n",
    "set1 = {1, 2, 3}\n",
    "set2 = {3, 4, 5}\n",
    "symmetric_difference_set = set1 ^ set2  # Output: {1, 2, 4, 5}\n",
    "print(\"Symmetric Difference:\",symmetric_difference_set)"
   ]
  },
  {
   "cell_type": "code",
   "execution_count": 4,
   "metadata": {},
   "outputs": [
    {
     "name": "stdout",
     "output_type": "stream",
     "text": [
      "True\n",
      "False\n",
      "5\n"
     ]
    }
   ],
   "source": [
    "#Membership Test and Length of Set:\n",
    "\n",
    "my_set = {1, 2, 3, 4, 5}\n",
    "\n",
    "# Membership test\n",
    "print(3 in my_set)  \n",
    "print(6 in my_set)  \n",
    "\n",
    "# Length of set\n",
    "print(len(my_set))  \n"
   ]
  },
  {
   "cell_type": "code",
   "execution_count": 5,
   "metadata": {},
   "outputs": [
    {
     "name": "stdout",
     "output_type": "stream",
     "text": [
      "1\n",
      "2\n",
      "3\n"
     ]
    }
   ],
   "source": [
    "#Iterating Through a Set:\n",
    "\n",
    "my_set = {1, 2, 3}\n",
    "\n",
    "# Iterating through set elements\n",
    "for item in my_set:\n",
    "    print(item)\n",
    "\n",
    "     "
   ]
  },
  {
   "cell_type": "code",
   "execution_count": 6,
   "metadata": {},
   "outputs": [
    {
     "name": "stdout",
     "output_type": "stream",
     "text": [
      "{(2, 'c'), (2, 'a'), (1, 'c'), (2, 'b'), (1, 'a'), (1, 'b')}\n",
      "{frozenset({2}), frozenset({2, 3}), frozenset({1, 2, 3}), frozenset({1, 2}), frozenset({3}), frozenset({1}), frozenset(), frozenset({1, 3})}\n"
     ]
    }
   ],
   "source": [
    "# Advanced Set Operations in Python\n",
    "\n",
    "# Cartesian Product:\n",
    "\n",
    "set1 = {1, 2}\n",
    "set2 = {'a', 'b', 'c'}\n",
    "cartesian_product = {(x, y) for x in set1 for y in set2}\n",
    "print(cartesian_product)\n",
    "\n",
    "#Power set:\n",
    "def power_set(s):\n",
    "    if len(s) == 0:\n",
    "        return {frozenset()}\n",
    "    element = s.pop()\n",
    "    subsets = power_set(s)\n",
    "    return subsets.union({subset.union({element}) for subset in subsets})\n",
    "\n",
    "my_set = {1, 2, 3}\n",
    "print(power_set(my_set))"
   ]
  }
 ],
 "metadata": {
  "kernelspec": {
   "display_name": "Python 3",
   "language": "python",
   "name": "python3"
  },
  "language_info": {
   "codemirror_mode": {
    "name": "ipython",
    "version": 3
   },
   "file_extension": ".py",
   "mimetype": "text/x-python",
   "name": "python",
   "nbconvert_exporter": "python",
   "pygments_lexer": "ipython3",
   "version": "3.11.5"
  }
 },
 "nbformat": 4,
 "nbformat_minor": 2
}

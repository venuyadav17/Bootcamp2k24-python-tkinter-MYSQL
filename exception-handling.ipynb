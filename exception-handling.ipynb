{
 "cells": [
  {
   "cell_type": "code",
   "execution_count": 1,
   "metadata": {},
   "outputs": [
    {
     "name": "stdout",
     "output_type": "stream",
     "text": [
      "Error: Number Cannot be divide by zero!\n"
     ]
    }
   ],
   "source": [
    " # basics of exception handling\n",
    "'''\n",
    "try:\n",
    "    # code which may raise exception\n",
    "    #.....\n",
    "except ExceptionType1:\n",
    "# code to handle exceptiontype1\n",
    "#...\n",
    "'''\n",
    "\n",
    "# Example usage\n",
    "\n",
    "try:\n",
    "    x = 100\n",
    "    y = 0\n",
    "    result = x / y\n",
    "    print(result)\n",
    "except ZeroDivisionError:\n",
    "    print(\"Error: Number Cannot be divide by zero!\")\n",
    "    "
   ]
  },
  {
   "cell_type": "code",
   "execution_count": 9,
   "metadata": {},
   "outputs": [
    {
     "name": "stdout",
     "output_type": "stream",
     "text": [
      "4.0\n"
     ]
    }
   ],
   "source": [
    "# Handling multiple exceptions \n",
    "\n",
    "'''\n",
    "try:\n",
    "    # Code that might raise an exception\n",
    "    # ...\n",
    "except (ExceptionType1, ExceptionType2):\n",
    "    # Code to handle ExceptionType1 and ExceptionType2\n",
    "    # ...\n",
    "except ExceptionType3:\n",
    "    # Code to handle ExceptionType3\n",
    "    # ...\n",
    "'''\n",
    "\n",
    "# Example \n",
    "\n",
    "try:\n",
    "    x = 40\n",
    "    y = 10\n",
    "    result = x / y  # This will not raise any exception.\n",
    "    print(result)\n",
    "\n",
    "except ZeroDivisionError:\n",
    "    print(\"Error: Cannot divide by zero!\")\n",
    "\n",
    "except ValueError:\n",
    "    print(\"Error: Invalid value!\")"
   ]
  },
  {
   "cell_type": "code",
   "execution_count": 17,
   "metadata": {},
   "outputs": [
    {
     "name": "stdout",
     "output_type": "stream",
     "text": [
      "-5.0\n",
      "a/b result in 0\n",
      "Can't divide by zero\n",
      "This is always executed\n"
     ]
    }
   ],
   "source": [
    "# using else and final blocks\n",
    "\n",
    "#else block\n",
    "\n",
    "'''\n",
    "try:\n",
    "#code that might raise error\n",
    "\n",
    "except exceptiontype:\n",
    "#code to handle exception type\n",
    "\n",
    "else:\n",
    "code to be executed if there are no exceptions\n",
    "\n",
    "'''\n",
    "# example of else:\n",
    "\n",
    "def AbyB(a , b):\n",
    "    try:\n",
    "        c = ((a+b) / (a-b))\n",
    "    except ZeroDivisionError:\n",
    "        print (\"a/b result in 0\")\n",
    "    else:\n",
    "        print (c)\n",
    "AbyB(2.0, 3.0)\n",
    "AbyB(3.0, 3.0)\n",
    "\n",
    "#final block\n",
    "\n",
    "'''\n",
    "try:\n",
    "#code that might raise error\n",
    "\n",
    "except exceptiontype:\n",
    "#code to handle exception type\n",
    "\n",
    "finally:\n",
    "#code to be executed regardless of exceptions\n",
    "'''\n",
    "\n",
    "#example of final block\n",
    "\n",
    "try:\n",
    "    k = 5//0\n",
    "    print(k)\n",
    " \n",
    "except ZeroDivisionError:\n",
    "    print(\"Can't divide by zero\")\n",
    " \n",
    "finally:\n",
    "    print('This is always executed')\n",
    "\n"
   ]
  },
  {
   "cell_type": "code",
   "execution_count": null,
   "metadata": {},
   "outputs": [],
   "source": [
    "# ArithmeticError\n",
    "x=10\n",
    "y=0\n",
    "print(x/y) # this gives zerodivisionerror.\n",
    "\n",
    "#IndentationError\n",
    "a=1\n",
    "b=2\n",
    "if a>b:\n",
    "print(\"{a} is greater than{b}\")\n",
    "\n",
    "#value error\n",
    "int(\"dsa\") # this error occurs when we put data incorrectly without checking datatype.\n",
    "\n",
    "# IndexError: Raised when a sequence subscript is out of range.\n",
    "lst = [1, 2, 3]\n",
    "print(lst[3])  # Raises IndexError: list index out of range\n",
    "\n",
    "# TypeError: Raised when an operation or function is attempted with an inappropriate type.\n",
    "print(len(42))  # Raises TypeError: object of type 'int' has no len()\n"
   ]
  },
  {
   "cell_type": "code",
   "execution_count": null,
   "metadata": {},
   "outputs": [],
   "source": [
    "# Custom Exception \n",
    "\n",
    "\"\"\"\n",
    "class CustomExceptionName(Exception):\n",
    "    '''Docstring describing the exception'''\n",
    "    pass\n",
    "\n",
    "try:\n",
    "    # Code that raises the custom exception\n",
    "except CustomExceptionName:\n",
    "    # Handle the custom exception\n",
    "\"\"\"\n",
    "\n",
    "#Example \n",
    "\n",
    "class InvalidAgeError(Exception):\n",
    "    \"\"\"Raised when the input age is invalid\"\"\"\n",
    "    pass\n",
    "\n",
    "def validate_age(age):\n",
    "    if age < 0:\n",
    "        raise InvalidAgeError(\"Age cannot be negative\")\n",
    "    elif age > 120:\n",
    "        raise InvalidAgeError(\"Age cannot be greater than 120\")\n",
    "    else:\n",
    "        print(\"Valid age\")\n",
    "\n",
    "try:\n",
    "    validate_age(-5)\n",
    "except InvalidAgeError:\n",
    "    print(\"Invalid age provided\")"
   ]
  },
  {
   "cell_type": "code",
   "execution_count": 25,
   "metadata": {},
   "outputs": [
    {
     "name": "stdout",
     "output_type": "stream",
     "text": [
      "Can't divide by zero!\n"
     ]
    }
   ],
   "source": [
    "# Using except with specific exception\n",
    "\n",
    "\"\"\"\n",
    "try:\n",
    "    # Code that might raise an exception\n",
    "    # ...\n",
    "except SpecificExceptionType:\n",
    "    # Handle the SpecificExceptionType\n",
    "    # ...\n",
    "\"\"\"\n",
    "\n",
    "# Example \n",
    "\n",
    "try:\n",
    "    x = 1/0  # This will raise a ZeroDivisionError\n",
    "except ZeroDivisionError:\n",
    "    print(\"Can't divide by zero!\")\n",
    "\n",
    "#Output:Can't divide by zero!"
   ]
  },
  {
   "cell_type": "code",
   "execution_count": 26,
   "metadata": {},
   "outputs": [
    {
     "name": "stdout",
     "output_type": "stream",
     "text": [
      "Error: Cannot divide by zero.\n"
     ]
    }
   ],
   "source": [
    "# Raising Exception\n",
    "\n",
    "def divide_numbers(a, b):\n",
    "    if b == 0:\n",
    "        raise ValueError(\"Cannot divide by zero.\")\n",
    "    return a / b\n",
    "\n",
    "try:\n",
    "    result = divide_numbers(10, 0)\n",
    "    print(result)\n",
    "except ValueError as e:\n",
    "    print(f\"Error: {e}\")"
   ]
  }
 ],
 "metadata": {
  "kernelspec": {
   "display_name": "Python 3",
   "language": "python",
   "name": "python3"
  },
  "language_info": {
   "codemirror_mode": {
    "name": "ipython",
    "version": 3
   },
   "file_extension": ".py",
   "mimetype": "text/x-python",
   "name": "python",
   "nbconvert_exporter": "python",
   "pygments_lexer": "ipython3",
   "version": "3.11.5"
  }
 },
 "nbformat": 4,
 "nbformat_minor": 2
}

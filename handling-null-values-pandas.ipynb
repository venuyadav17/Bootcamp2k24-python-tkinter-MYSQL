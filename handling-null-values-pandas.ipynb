{
 "cells": [
  {
   "cell_type": "code",
   "execution_count": null,
   "metadata": {},
   "outputs": [],
   "source": [
    "# Detecting Null Values\n",
    "\n",
    "import pandas as pd\n",
    "\n",
    "# Sample DataFrame with null values\n",
    "data = {\n",
    "    'Name': ['Rahul', 'Priya', 'Vikram', 'Anjali', 'Rajesh'],\n",
    "    'Age': [25, None, 30, None, 40],\n",
    "    'Salary': [700000, 800000, None, 600000, 750000]\n",
    "}\n",
    "df = pd.DataFrame(data)\n",
    "\n",
    "# Detecting null values\n",
    "print(df.isnull())\n",
    "\n",
    "# Detecting non-null values\n",
    "print(df.notnull())\n"
   ]
  },
  {
   "cell_type": "code",
   "execution_count": null,
   "metadata": {},
   "outputs": [],
   "source": [
    "# Dropping Null Values\n",
    "\n",
    "# Drop rows with any null values\n",
    "df_dropped_rows = df.dropna()\n",
    "\n",
    "# Drop columns with any null values\n",
    "df_dropped_columns = df.dropna(axis=1)\n",
    "\n",
    "# Drop rows where all values are null\n",
    "df_dropped_all_null = df.dropna(how='all')\n",
    "\n",
    "# Drop rows based on specific columns\n",
    "df_dropped_subset = df.dropna(subset=['Age'])\n",
    "\n",
    "print(df_dropped_rows)\n",
    "print(df_dropped_columns)\n",
    "print(df_dropped_all_null)\n",
    "print(df_dropped_subset)\n"
   ]
  },
  {
   "cell_type": "code",
   "execution_count": null,
   "metadata": {},
   "outputs": [],
   "source": [
    "# Filling Null Values\n",
    "\n",
    "# Fill null values with a specific value\n",
    "df_filled_value = df.fillna(0)\n",
    "\n",
    "# Forward fill\n",
    "df_ffill = df.fillna(method='ffill')\n",
    "\n",
    "# Backward fill\n",
    "df_bfill = df.fillna(method='bfill')\n",
    "\n",
    "print(df_filled_value)\n",
    "print(df_ffill)\n",
    "print(df_bfill)\n"
   ]
  },
  {
   "cell_type": "code",
   "execution_count": null,
   "metadata": {},
   "outputs": [],
   "source": [
    "# Filling Null Values with Mean/Median/Mode\n",
    "\n",
    "# Fill null values with the mean of the column\n",
    "df_filled_mean = df.copy()\n",
    "df_filled_mean['Age'].fillna(df_filled_mean['Age'].mean(), inplace=True)\n",
    "df_filled_mean['Salary'].fillna(df_filled_mean['Salary'].mean(), inplace=True)\n",
    "\n",
    "# Fill null values with the median of the column\n",
    "df_filled_median = df.copy()\n",
    "df_filled_median['Age'].fillna(df_filled_median['Age'].median(), inplace=True)\n",
    "df_filled_median['Salary'].fillna(df_filled_median['Salary'].median(), inplace=True)\n",
    "\n",
    "# Fill null values with the mode of the column\n",
    "df_filled_mode = df.copy()\n",
    "df_filled_mode['Age'].fillna(df_filled_mode['Age'].mode()[0], inplace=True)\n",
    "df_filled_mode['Salary'].fillna(df_filled_mode['Salary'].mode()[0], inplace=True)\n",
    "\n",
    "print(df_filled_mean)\n",
    "print(df_filled_median)\n",
    "print(df_filled_mode)\n"
   ]
  },
  {
   "cell_type": "code",
   "execution_count": null,
   "metadata": {},
   "outputs": [],
   "source": [
    "#  Interpolation\n",
    "\n",
    "# Linear interpolation\n",
    "df_interpolated = df.interpolate()\n",
    "\n",
    "print(df_interpolated)\n"
   ]
  }
 ],
 "metadata": {
  "language_info": {
   "name": "python"
  }
 },
 "nbformat": 4,
 "nbformat_minor": 2
}

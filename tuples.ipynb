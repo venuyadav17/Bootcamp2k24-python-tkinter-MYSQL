{
 "cells": [
  {
   "cell_type": "code",
   "execution_count": 1,
   "metadata": {},
   "outputs": [],
   "source": [
    "# Creating tuples\n",
    "empty_tuple = ()\n",
    "single_element_tuple = (42,)  \n",
    "mixed_tuple = (\"apple\", 123, [1, 2, 3])\n",
    "nested_tuple = ((1, 2), (\"a\", \"b\", \"c\"))"
   ]
  },
  {
   "cell_type": "code",
   "execution_count": 3,
   "metadata": {},
   "outputs": [
    {
     "name": "stdout",
     "output_type": "stream",
     "text": [
      "truck\n",
      "bike\n",
      "car\n"
     ]
    }
   ],
   "source": [
    "#accessing tuples\n",
    "\n",
    "my_tuple = (\"truck\", \"bike\", \"car\")\n",
    "print(my_tuple[0])  \n",
    "print(my_tuple[1])  \n",
    "print(my_tuple[-1]) "
   ]
  },
  {
   "cell_type": "code",
   "execution_count": 4,
   "metadata": {},
   "outputs": [
    {
     "name": "stdout",
     "output_type": "stream",
     "text": [
      "audi\n",
      "benz\n",
      "ford\n"
     ]
    }
   ],
   "source": [
    "# Tuple packing\n",
    "my_tuple = \"audi\", \"benz\", \"ford\"\n",
    "\n",
    "# Tuple unpacking\n",
    "car1, car2, car3 = my_tuple\n",
    "print(car1)  \n",
    "print(car2) \n",
    "print(car3)  "
   ]
  },
  {
   "cell_type": "code",
   "execution_count": 5,
   "metadata": {},
   "outputs": [
    {
     "name": "stdout",
     "output_type": "stream",
     "text": [
      "('apple', 'banana', 'cherry', 'orange')\n"
     ]
    }
   ],
   "source": [
    "#Convert the tuple into a list , add \"orange\", and convert it back into a tuple:\n",
    "thistuple = (\"apple\", \"banana\", \"cherry\")\n",
    "y = list(thistuple)\n",
    "y.append(\"orange\")\n",
    "thistuple = tuple(y)\n",
    "\n",
    "print(thistuple)"
   ]
  },
  {
   "cell_type": "code",
   "execution_count": 7,
   "metadata": {},
   "outputs": [
    {
     "name": "stdout",
     "output_type": "stream",
     "text": [
      "apple\n",
      "['mango', 'papaya', 'pineapple']\n",
      "cherry\n"
     ]
    }
   ],
   "source": [
    "# Using Asterisk*:\n",
    "fruits = (\"apple\", \"mango\", \"papaya\", \"pineapple\", \"cherry\")\n",
    "\n",
    "(green, *tropic, red) = fruits\n",
    "\n",
    "print(green)\n",
    "print(tropic)\n",
    "print(red)"
   ]
  },
  {
   "cell_type": "code",
   "execution_count": 8,
   "metadata": {},
   "outputs": [
    {
     "name": "stdout",
     "output_type": "stream",
     "text": [
      "Joined tuple: (1, 2, 3, 4, 5, 6)\n"
     ]
    }
   ],
   "source": [
    "# We can join two tuples\n",
    "tuple1 = (1, 2, 3)\n",
    "tuple2 = (4, 5, 6)\n",
    "\n",
    "joined_tuple = tuple1 + tuple2\n",
    "\n",
    "print(\"Joined tuple:\", joined_tuple)  # Output: Joined tuple: (1, 2, 3, 4, 5, 6)"
   ]
  },
  {
   "cell_type": "code",
   "execution_count": 9,
   "metadata": {},
   "outputs": [
    {
     "name": "stdout",
     "output_type": "stream",
     "text": [
      "Length of the list: 5\n",
      "Sum of numbers: 15\n",
      "Largest number: 8\n",
      "Smallest number: 1\n",
      "Sorted list: [1, 2, 3, 5, 8]\n"
     ]
    }
   ],
   "source": [
    "#built in functions \n",
    "\n",
    "#len()\n",
    "numbers_list = [1, 2, 3, 4, 5]\n",
    "length = len(numbers_list)\n",
    "print(\"Length of the list:\", length)  # Output: Length of the list: 5\n",
    "\n",
    "#sum()\n",
    "numbers_list = [1, 2, 3, 4, 5]\n",
    "total_sum = sum(numbers_list)\n",
    "print(\"Sum of numbers:\", total_sum)  # Output: Sum of numbers: 15\n",
    "\n",
    "#max()\n",
    "numbers_list = [1, 5, 2, 8, 3]\n",
    "largest = max(numbers_list)\n",
    "print(\"Largest number:\", largest)  # Output: Largest number: 8\n",
    "\n",
    "#min()\n",
    "numbers_list = [1, 5, 2, 8, 3]\n",
    "smallest = min(numbers_list)\n",
    "print(\"Smallest number:\", smallest)  # Output: Smallest number: 1\n",
    "\n",
    "#sorted()\n",
    "numbers_list = [1, 5, 2, 8, 3]\n",
    "sorted_list = sorted(numbers_list)\n",
    "print(\"Sorted list:\", sorted_list)  # Output: Sorted list: [1, 2, 3, 5, 8]"
   ]
  }
 ],
 "metadata": {
  "kernelspec": {
   "display_name": "Python 3",
   "language": "python",
   "name": "python3"
  },
  "language_info": {
   "codemirror_mode": {
    "name": "ipython",
    "version": 3
   },
   "file_extension": ".py",
   "mimetype": "text/x-python",
   "name": "python",
   "nbconvert_exporter": "python",
   "pygments_lexer": "ipython3",
   "version": "3.11.5"
  }
 },
 "nbformat": 4,
 "nbformat_minor": 2
}
